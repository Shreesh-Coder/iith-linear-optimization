{
 "cells": [
  {
   "cell_type": "code",
   "execution_count": null,
   "metadata": {},
   "outputs": [],
   "source": []
  },
  {
   "cell_type": "code",
   "execution_count": 18,
   "metadata": {},
   "outputs": [
    {
     "name": "stdout",
     "output_type": "stream",
     "text": [
      "Finding feasible point...\n",
      "Testing feasibility: [-1. -1. -1. -1. -1.  1.] <= [ 0. -1.  0.  0.  1.  1.]\n",
      "Active constraints for vertex test: [1 5]\n",
      "Degeneracy Test: Rank=2, Active Constraints=2 -> Non-degenerate\n",
      "Testing for optimum: Not implemented.\n",
      "Optimizing: Not implemented.\n",
      "Splitting rows: Not implemented.\n",
      "Active constraint matrix P1 is singular. Cannot proceed.\n",
      "Feasible point found: []\n"
     ]
    },
    {
     "ename": "ValueError",
     "evalue": "matmul: Input operand 1 has a mismatch in its core dimension 0, with gufunc signature (n?,k),(k,m?)->(n?,m?) (size 0 is different from 2)",
     "output_type": "error",
     "traceback": [
      "\u001b[1;31m---------------------------------------------------------------------------\u001b[0m",
      "\u001b[1;31mValueError\u001b[0m                                Traceback (most recent call last)",
      "Cell \u001b[1;32mIn[18], line 4\u001b[0m\n\u001b[0;32m      2\u001b[0m file_path \u001b[38;5;241m=\u001b[39m \u001b[38;5;124mr\u001b[39m\u001b[38;5;124m'\u001b[39m\u001b[38;5;124mC:\u001b[39m\u001b[38;5;124m\\\u001b[39m\u001b[38;5;124mUsers\u001b[39m\u001b[38;5;124m\\\u001b[39m\u001b[38;5;124mgupta\u001b[39m\u001b[38;5;124m\\\u001b[39m\u001b[38;5;124mOneDrive - IIT Hyderabad\u001b[39m\u001b[38;5;124m\\\u001b[39m\u001b[38;5;124mIITH\u001b[39m\u001b[38;5;124m\\\u001b[39m\u001b[38;5;124mAssignment\u001b[39m\u001b[38;5;124m\\\u001b[39m\u001b[38;5;124mLO\u001b[39m\u001b[38;5;124m\\\u001b[39m\u001b[38;5;124mSome Ones assig\u001b[39m\u001b[38;5;124m\\\u001b[39m\u001b[38;5;124m3.Dataset.csv\u001b[39m\u001b[38;5;124m'\u001b[39m\n\u001b[0;32m      3\u001b[0m simplex \u001b[38;5;241m=\u001b[39m SimplexAlgo(file_path)\n\u001b[1;32m----> 4\u001b[0m simplex\u001b[38;5;241m.\u001b[39msolve()\n",
      "Cell \u001b[1;32mIn[17], line 539\u001b[0m, in \u001b[0;36mSimplexAlgo.solve\u001b[1;34m(self)\u001b[0m\n\u001b[0;32m    536\u001b[0m \u001b[38;5;28mprint\u001b[39m(\u001b[38;5;124mf\u001b[39m\u001b[38;5;124m\"\u001b[39m\u001b[38;5;124mFeasible point found: \u001b[39m\u001b[38;5;132;01m{\u001b[39;00m\u001b[38;5;28mself\u001b[39m\u001b[38;5;241m.\u001b[39mz\u001b[38;5;132;01m}\u001b[39;00m\u001b[38;5;124m\"\u001b[39m)\n\u001b[0;32m    538\u001b[0m \u001b[38;5;66;03m# Step 2: Check for feasibility of the initial point\u001b[39;00m\n\u001b[1;32m--> 539\u001b[0m \u001b[38;5;28;01mif\u001b[39;00m \u001b[38;5;129;01mnot\u001b[39;00m \u001b[38;5;28mself\u001b[39m\u001b[38;5;241m.\u001b[39misFeasible():\n\u001b[0;32m    540\u001b[0m     \u001b[38;5;28mprint\u001b[39m(\u001b[38;5;124mf\u001b[39m\u001b[38;5;124m\"\u001b[39m\u001b[38;5;124mInitial point \u001b[39m\u001b[38;5;132;01m{\u001b[39;00m\u001b[38;5;28mself\u001b[39m\u001b[38;5;241m.\u001b[39mz\u001b[38;5;132;01m}\u001b[39;00m\u001b[38;5;124m is not feasible...!!!\u001b[39m\u001b[38;5;124m\"\u001b[39m)\n\u001b[0;32m    541\u001b[0m     \u001b[38;5;28;01mreturn\u001b[39;00m\n",
      "Cell \u001b[1;32mIn[17], line 43\u001b[0m, in \u001b[0;36mSimplexAlgo.isFeasible\u001b[1;34m(self, z)\u001b[0m\n\u001b[0;32m     41\u001b[0m \u001b[38;5;28;01mif\u001b[39;00m z \u001b[38;5;129;01mis\u001b[39;00m \u001b[38;5;28;01mNone\u001b[39;00m:\n\u001b[0;32m     42\u001b[0m     z \u001b[38;5;241m=\u001b[39m \u001b[38;5;28mself\u001b[39m\u001b[38;5;241m.\u001b[39mz\n\u001b[1;32m---> 43\u001b[0m \u001b[38;5;28;01mreturn\u001b[39;00m np\u001b[38;5;241m.\u001b[39mall(np\u001b[38;5;241m.\u001b[39mmatmul(\u001b[38;5;28mself\u001b[39m\u001b[38;5;241m.\u001b[39mA, z) \u001b[38;5;241m<\u001b[39m\u001b[38;5;241m=\u001b[39m \u001b[38;5;28mself\u001b[39m\u001b[38;5;241m.\u001b[39mb \u001b[38;5;241m+\u001b[39m \u001b[38;5;241m1e-8\u001b[39m)\n",
      "\u001b[1;31mValueError\u001b[0m: matmul: Input operand 1 has a mismatch in its core dimension 0, with gufunc signature (n?,k),(k,m?)->(n?,m?) (size 0 is different from 2)"
     ]
    }
   ],
   "source": [
    "if __name__ == \"__main__\":\n",
    "    file_path = r'C:\\Users\\gupta\\OneDrive - IIT Hyderabad\\IITH\\Assignment\\LO\\Some Ones assig\\3.Dataset.csv'\n",
    "    simplex = SimplexAlgo(file_path)\n",
    "    simplex.solve()"
   ]
  },
  {
   "cell_type": "code",
   "execution_count": null,
   "metadata": {},
   "outputs": [],
   "source": []
  }
 ],
 "metadata": {
  "kernelspec": {
   "display_name": "base",
   "language": "python",
   "name": "python3"
  },
  "language_info": {
   "codemirror_mode": {
    "name": "ipython",
    "version": 3
   },
   "file_extension": ".py",
   "mimetype": "text/x-python",
   "name": "python",
   "nbconvert_exporter": "python",
   "pygments_lexer": "ipython3",
   "version": "3.11.5"
  }
 },
 "nbformat": 4,
 "nbformat_minor": 2
}
